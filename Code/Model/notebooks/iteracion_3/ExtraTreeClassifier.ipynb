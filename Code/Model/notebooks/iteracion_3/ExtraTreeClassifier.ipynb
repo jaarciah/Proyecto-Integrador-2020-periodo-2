{
 "cells": [
  {
   "cell_type": "code",
   "execution_count": 1,
   "metadata": {},
   "outputs": [],
   "source": [
    "import pandas as pd\n",
    "import numpy as np\n",
    "from mlxtend.feature_selection import SequentialFeatureSelector as sfs\n",
    "from sklearn.ensemble import RandomForestClassifier\n",
    "\n",
    "from sklearn.linear_model import LogisticRegression\n",
    "from sklearn import svm\n",
    "from sklearn.linear_model import SGDClassifier\n",
    "from sklearn.neighbors import KNeighborsClassifier\n",
    "from sklearn.gaussian_process import GaussianProcessClassifier\n",
    "from sklearn.naive_bayes import GaussianNB\n",
    "\n",
    "from sklearn.tree import DecisionTreeClassifier\n",
    "from sklearn.tree import ExtraTreeClassifier\n",
    "\n",
    "from sklearn.ensemble import BaggingClassifier\n",
    "from sklearn.ensemble import AdaBoostClassifier\n",
    "from sklearn.ensemble import GradientBoostingClassifier\n",
    "from sklearn.ensemble import VotingClassifier\n",
    "\n",
    "from sklearn.pipeline import make_pipeline\n",
    "import pickle\n",
    "from sklearn.model_selection import GridSearchCV\n",
    "from sklearn.model_selection import train_test_split\n",
    "from sklearn.pipeline import Pipeline\n",
    "from sklearn.metrics import classification_report\n",
    "\n",
    "import sys\n",
    "\n",
    "if not sys.warnoptions:\n",
    "    import warnings\n",
    "    warnings.simplefilter(\"ignore\")\n",
    "    \n",
    "from sklearn.preprocessing import StandardScaler"
   ]
  },
  {
   "cell_type": "code",
   "execution_count": 2,
   "metadata": {},
   "outputs": [],
   "source": [
    "#path1 = \"https://raw.githubusercontent.com/jaarciah/Proyecto-Integrador-2020-periodo-2/master/Data/Preprocessing/hurto_motos_categorias_ingCaracteristicas.csv\"\n",
    "path2 = \"https://raw.githubusercontent.com/jaarciah/Proyecto-Integrador-2020-periodo-2/master/Data/Modeling/hurto_preprocesado_C.csv\"\n",
    "\n",
    "#hurtos_moto = pd.read_csv(path1, sep=\";\", low_memory=False)\n",
    "hurto_preprocesado = pd.read_csv(path2, sep=\",\", low_memory=False)"
   ]
  },
  {
   "cell_type": "code",
   "execution_count": 3,
   "metadata": {},
   "outputs": [
    {
     "data": {
      "text/plain": [
       "0    33100\n",
       "1    25455\n",
       "Name: modalidad, dtype: int64"
      ]
     },
     "execution_count": 3,
     "metadata": {},
     "output_type": "execute_result"
    }
   ],
   "source": [
    "hurto_preprocesado.modalidad.value_counts()"
   ]
  },
  {
   "cell_type": "code",
   "execution_count": 4,
   "metadata": {},
   "outputs": [
    {
     "data": {
      "text/html": [
       "<div>\n",
       "<style scoped>\n",
       "    .dataframe tbody tr th:only-of-type {\n",
       "        vertical-align: middle;\n",
       "    }\n",
       "\n",
       "    .dataframe tbody tr th {\n",
       "        vertical-align: top;\n",
       "    }\n",
       "\n",
       "    .dataframe thead th {\n",
       "        text-align: right;\n",
       "    }\n",
       "</style>\n",
       "<table border=\"1\" class=\"dataframe\">\n",
       "  <thead>\n",
       "    <tr style=\"text-align: right;\">\n",
       "      <th></th>\n",
       "      <th>latitud</th>\n",
       "      <th>longitud</th>\n",
       "      <th>estado_civil</th>\n",
       "      <th>medio_transporte</th>\n",
       "      <th>modalidad</th>\n",
       "      <th>nombre_barrio</th>\n",
       "      <th>codigo_comuna</th>\n",
       "      <th>lugar</th>\n",
       "      <th>sede_receptora</th>\n",
       "      <th>modelo</th>\n",
       "      <th>...</th>\n",
       "      <th>anho</th>\n",
       "      <th>mes</th>\n",
       "      <th>dia</th>\n",
       "      <th>dia_semana</th>\n",
       "      <th>hora</th>\n",
       "      <th>festivos</th>\n",
       "      <th>quincena</th>\n",
       "      <th>week_number</th>\n",
       "      <th>ferias_fiestas</th>\n",
       "      <th>franja_horaria</th>\n",
       "    </tr>\n",
       "  </thead>\n",
       "  <tbody>\n",
       "    <tr>\n",
       "      <th>0</th>\n",
       "      <td>6.268040</td>\n",
       "      <td>-75.549892</td>\n",
       "      <td>0</td>\n",
       "      <td>0</td>\n",
       "      <td>0</td>\n",
       "      <td>0</td>\n",
       "      <td>0</td>\n",
       "      <td>0</td>\n",
       "      <td>0</td>\n",
       "      <td>0</td>\n",
       "      <td>...</td>\n",
       "      <td>2017</td>\n",
       "      <td>1</td>\n",
       "      <td>1</td>\n",
       "      <td>6</td>\n",
       "      <td>23</td>\n",
       "      <td>1</td>\n",
       "      <td>1</td>\n",
       "      <td>52</td>\n",
       "      <td>0</td>\n",
       "      <td>2</td>\n",
       "    </tr>\n",
       "    <tr>\n",
       "      <th>1</th>\n",
       "      <td>6.268129</td>\n",
       "      <td>-75.557882</td>\n",
       "      <td>0</td>\n",
       "      <td>0</td>\n",
       "      <td>0</td>\n",
       "      <td>4</td>\n",
       "      <td>3</td>\n",
       "      <td>2</td>\n",
       "      <td>3</td>\n",
       "      <td>4</td>\n",
       "      <td>...</td>\n",
       "      <td>2017</td>\n",
       "      <td>1</td>\n",
       "      <td>1</td>\n",
       "      <td>6</td>\n",
       "      <td>16</td>\n",
       "      <td>1</td>\n",
       "      <td>1</td>\n",
       "      <td>52</td>\n",
       "      <td>0</td>\n",
       "      <td>1</td>\n",
       "    </tr>\n",
       "    <tr>\n",
       "      <th>2</th>\n",
       "      <td>6.268399</td>\n",
       "      <td>-75.549576</td>\n",
       "      <td>0</td>\n",
       "      <td>0</td>\n",
       "      <td>0</td>\n",
       "      <td>0</td>\n",
       "      <td>0</td>\n",
       "      <td>0</td>\n",
       "      <td>0</td>\n",
       "      <td>4</td>\n",
       "      <td>...</td>\n",
       "      <td>2017</td>\n",
       "      <td>1</td>\n",
       "      <td>1</td>\n",
       "      <td>6</td>\n",
       "      <td>10</td>\n",
       "      <td>1</td>\n",
       "      <td>1</td>\n",
       "      <td>52</td>\n",
       "      <td>0</td>\n",
       "      <td>0</td>\n",
       "    </tr>\n",
       "    <tr>\n",
       "      <th>3</th>\n",
       "      <td>6.263576</td>\n",
       "      <td>-75.558601</td>\n",
       "      <td>3</td>\n",
       "      <td>0</td>\n",
       "      <td>0</td>\n",
       "      <td>4</td>\n",
       "      <td>3</td>\n",
       "      <td>0</td>\n",
       "      <td>3</td>\n",
       "      <td>4</td>\n",
       "      <td>...</td>\n",
       "      <td>2017</td>\n",
       "      <td>1</td>\n",
       "      <td>3</td>\n",
       "      <td>1</td>\n",
       "      <td>8</td>\n",
       "      <td>0</td>\n",
       "      <td>0</td>\n",
       "      <td>1</td>\n",
       "      <td>0</td>\n",
       "      <td>0</td>\n",
       "    </tr>\n",
       "    <tr>\n",
       "      <th>4</th>\n",
       "      <td>6.263299</td>\n",
       "      <td>-75.556534</td>\n",
       "      <td>0</td>\n",
       "      <td>1</td>\n",
       "      <td>1</td>\n",
       "      <td>4</td>\n",
       "      <td>3</td>\n",
       "      <td>0</td>\n",
       "      <td>3</td>\n",
       "      <td>0</td>\n",
       "      <td>...</td>\n",
       "      <td>2017</td>\n",
       "      <td>1</td>\n",
       "      <td>7</td>\n",
       "      <td>5</td>\n",
       "      <td>3</td>\n",
       "      <td>0</td>\n",
       "      <td>0</td>\n",
       "      <td>1</td>\n",
       "      <td>0</td>\n",
       "      <td>2</td>\n",
       "    </tr>\n",
       "  </tbody>\n",
       "</table>\n",
       "<p>5 rows × 21 columns</p>\n",
       "</div>"
      ],
      "text/plain": [
       "    latitud   longitud  estado_civil  medio_transporte  modalidad  \\\n",
       "0  6.268040 -75.549892             0                 0          0   \n",
       "1  6.268129 -75.557882             0                 0          0   \n",
       "2  6.268399 -75.549576             0                 0          0   \n",
       "3  6.263576 -75.558601             3                 0          0   \n",
       "4  6.263299 -75.556534             0                 1          1   \n",
       "\n",
       "   nombre_barrio  codigo_comuna  lugar  sede_receptora  modelo  ...  anho  \\\n",
       "0              0              0      0               0       0  ...  2017   \n",
       "1              4              3      2               3       4  ...  2017   \n",
       "2              0              0      0               0       4  ...  2017   \n",
       "3              4              3      0               3       4  ...  2017   \n",
       "4              4              3      0               3       0  ...  2017   \n",
       "\n",
       "   mes  dia  dia_semana  hora  festivos  quincena  week_number  \\\n",
       "0    1    1           6    23         1         1           52   \n",
       "1    1    1           6    16         1         1           52   \n",
       "2    1    1           6    10         1         1           52   \n",
       "3    1    3           1     8         0         0            1   \n",
       "4    1    7           5     3         0         0            1   \n",
       "\n",
       "   ferias_fiestas  franja_horaria  \n",
       "0               0               2  \n",
       "1               0               1  \n",
       "2               0               0  \n",
       "3               0               0  \n",
       "4               0               2  \n",
       "\n",
       "[5 rows x 21 columns]"
      ]
     },
     "execution_count": 4,
     "metadata": {},
     "output_type": "execute_result"
    }
   ],
   "source": [
    "hurto_preprocesado.head()"
   ]
  },
  {
   "cell_type": "code",
   "execution_count": 5,
   "metadata": {},
   "outputs": [
    {
     "data": {
      "text/plain": [
       "Index(['latitud', 'longitud', 'estado_civil', 'medio_transporte', 'modalidad',\n",
       "       'nombre_barrio', 'codigo_comuna', 'lugar', 'sede_receptora', 'modelo',\n",
       "       'fecha', 'anho', 'mes', 'dia', 'dia_semana', 'hora', 'festivos',\n",
       "       'quincena', 'week_number', 'ferias_fiestas', 'franja_horaria'],\n",
       "      dtype='object')"
      ]
     },
     "execution_count": 5,
     "metadata": {},
     "output_type": "execute_result"
    }
   ],
   "source": [
    "hurto_preprocesado.columns"
   ]
  },
  {
   "cell_type": "code",
   "execution_count": 6,
   "metadata": {},
   "outputs": [],
   "source": [
    "# variables escogidas despues del proceso de ingenieria de caracteristica.\n",
    "variables = [\"latitud\",\"longitud\",\"estado_civil\",\"medio_transporte\",\"modalidad\",\"nombre_barrio\",\"codigo_comuna\",\"lugar\",\"sede_receptora\",\"modelo\", \"fecha\"]\n",
    "\n",
    "hurto_preprocesado_new = hurto_preprocesado[variables]"
   ]
  },
  {
   "cell_type": "markdown",
   "metadata": {},
   "source": [
    "# Proceso de cross-validation."
   ]
  },
  {
   "cell_type": "code",
   "execution_count": 7,
   "metadata": {},
   "outputs": [],
   "source": [
    "y = hurto_preprocesado_new.modalidad\n",
    "x = hurto_preprocesado_new.drop(['modalidad'], axis=1)\n",
    "\n",
    "X_train, X_test, y_train, y_test = train_test_split(x, \n",
    "                                                    y, \n",
    "                                                    test_size=0.2, \n",
    "                                                    random_state=8)"
   ]
  },
  {
   "cell_type": "markdown",
   "metadata": {},
   "source": [
    "# 6. Basados en arboles."
   ]
  },
  {
   "cell_type": "markdown",
   "metadata": {},
   "source": [
    "## 2. ExtraTreeClassifier.\n",
    "https://scikit-learn.org/stable/modules/generated/sklearn.tree.ExtraTreeClassifier.html"
   ]
  },
  {
   "cell_type": "code",
   "execution_count": 8,
   "metadata": {},
   "outputs": [],
   "source": [
    "modelETre = Pipeline([('ETre', ExtraTreeClassifier())\n",
    "                    ])\n",
    "\n",
    "max_depth = range(1,10)\n",
    "min_samples_split = range(1,10)\n",
    "min_samples_leaf = range(1,5)\n",
    "\n",
    "params = {'ETre__criterion':('gini', 'entropy'),\n",
    "          'ETre__splitter':('best', 'random'),\n",
    "          'ETre__max_depth':(max_depth),\n",
    "          'ETre__min_samples_split':(min_samples_split),\n",
    "          'ETre__min_samples_leaf':(min_samples_leaf)\n",
    "         }"
   ]
  },
  {
   "cell_type": "code",
   "execution_count": null,
   "metadata": {},
   "outputs": [],
   "source": []
  },
  {
   "cell_type": "code",
   "execution_count": 9,
   "metadata": {},
   "outputs": [
    {
     "name": "stdout",
     "output_type": "stream",
     "text": [
      "              precision    recall  f1-score   support\n",
      "\n",
      "           0       0.87      0.84      0.85      6657\n",
      "           1       0.80      0.83      0.81      5054\n",
      "\n",
      "    accuracy                           0.84     11711\n",
      "   macro avg       0.83      0.84      0.83     11711\n",
      "weighted avg       0.84      0.84      0.84     11711\n",
      "\n"
     ]
    }
   ],
   "source": [
    "grid_modelETre = GridSearchCV(modelETre, params, cv=5)\n",
    "grid_modelETre.fit(X_train,y_train)\n",
    "ypred = grid_modelETre.predict(X_test)\n",
    "print(classification_report(y_test, ypred))"
   ]
  },
  {
   "cell_type": "code",
   "execution_count": 10,
   "metadata": {},
   "outputs": [
    {
     "data": {
      "text/plain": [
       "Pipeline(memory=None,\n",
       "         steps=[('ETre',\n",
       "                 ExtraTreeClassifier(ccp_alpha=0.0, class_weight=None,\n",
       "                                     criterion='gini', max_depth=9,\n",
       "                                     max_features='auto', max_leaf_nodes=None,\n",
       "                                     min_impurity_decrease=0.0,\n",
       "                                     min_impurity_split=None,\n",
       "                                     min_samples_leaf=4, min_samples_split=9,\n",
       "                                     min_weight_fraction_leaf=0.0,\n",
       "                                     random_state=None, splitter='best'))],\n",
       "         verbose=False)"
      ]
     },
     "execution_count": 10,
     "metadata": {},
     "output_type": "execute_result"
    }
   ],
   "source": [
    "grid_modelETre.best_estimator_"
   ]
  },
  {
   "cell_type": "code",
   "execution_count": 12,
   "metadata": {},
   "outputs": [],
   "source": [
    "# Save to file in the current working directory\n",
    "pkl_filename = \"/home/jaarciah/PI/Clasificación /modelos/iteración_3/grid_modelETre.pkl\"\n",
    "with open(pkl_filename, 'wb') as file:\n",
    "    pickle.dump(grid_modelETre, file)"
   ]
  },
  {
   "cell_type": "code",
   "execution_count": null,
   "metadata": {},
   "outputs": [],
   "source": []
  },
  {
   "cell_type": "code",
   "execution_count": null,
   "metadata": {},
   "outputs": [],
   "source": []
  },
  {
   "cell_type": "code",
   "execution_count": null,
   "metadata": {},
   "outputs": [],
   "source": []
  },
  {
   "cell_type": "code",
   "execution_count": null,
   "metadata": {},
   "outputs": [],
   "source": []
  },
  {
   "cell_type": "code",
   "execution_count": null,
   "metadata": {},
   "outputs": [],
   "source": []
  }
 ],
 "metadata": {
  "kernelspec": {
   "display_name": "Python 3",
   "language": "python",
   "name": "python3"
  },
  "language_info": {
   "codemirror_mode": {
    "name": "ipython",
    "version": 3
   },
   "file_extension": ".py",
   "mimetype": "text/x-python",
   "name": "python",
   "nbconvert_exporter": "python",
   "pygments_lexer": "ipython3",
   "version": "3.7.3"
  }
 },
 "nbformat": 4,
 "nbformat_minor": 2
}
