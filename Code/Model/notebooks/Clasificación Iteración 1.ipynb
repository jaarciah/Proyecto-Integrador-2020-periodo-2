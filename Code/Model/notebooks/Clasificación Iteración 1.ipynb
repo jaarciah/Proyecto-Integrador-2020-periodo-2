{
 "cells": [
  {
   "cell_type": "code",
   "execution_count": 8,
   "metadata": {},
   "outputs": [],
   "source": [
    "import pandas as pd\n",
    "from mlxtend.feature_selection import SequentialFeatureSelector as sfs\n",
    "from sklearn.ensemble import RandomForestClassifier\n",
    "\n",
    "from sklearn.linear_model import LogisticRegression\n",
    "from sklearn import svm\n",
    "from sklearn.linear_model import SGDClassifier\n",
    "from sklearn.neighbors import KNeighborsClassifier\n",
    "from sklearn.gaussian_process import GaussianProcessClassifier\n",
    "from sklearn.naive_bayes import GaussianNB\n",
    "\n",
    "from sklearn.tree import DecisionTreeClassifier\n",
    "from sklearn.tree import ExtraTreeClassifier\n",
    "\n",
    "from sklearn.ensemble import BaggingClassifier\n",
    "from sklearn.ensemble import AdaBoostClassifier\n",
    "from sklearn.ensemble import GradientBoostingClassifier\n",
    "from sklearn.ensemble import VotingClassifier\n",
    "\n",
    "from sklearn.pipeline import make_pipeline\n",
    "import pickle\n",
    "from sklearn.model_selection import GridSearchCV\n",
    "from sklearn.model_selection import train_test_split\n",
    "from sklearn.pipeline import Pipeline\n",
    "from sklearn.metrics import classification_report"
   ]
  },
  {
   "cell_type": "code",
   "execution_count": 2,
   "metadata": {},
   "outputs": [],
   "source": [
    "#path1 = \"https://raw.githubusercontent.com/jaarciah/Proyecto-Integrador-2020-periodo-2/master/Data/Preprocessing/hurto_motos_categorias_ingCaracteristicas.csv\"\n",
    "path2 = \"https://raw.githubusercontent.com/jaarciah/Proyecto-Integrador-2020-periodo-2/master/Data/Modeling/hurto_preprocesado_C.csv\"\n",
    "\n",
    "#hurtos_moto = pd.read_csv(path1, sep=\";\", low_memory=False)\n",
    "hurto_preprocesado = pd.read_csv(path2, sep=\",\", low_memory=False)"
   ]
  },
  {
   "cell_type": "code",
   "execution_count": 3,
   "metadata": {},
   "outputs": [
    {
     "data": {
      "text/plain": [
       "0    33100\n",
       "1    25455\n",
       "Name: modalidad, dtype: int64"
      ]
     },
     "execution_count": 3,
     "metadata": {},
     "output_type": "execute_result"
    }
   ],
   "source": [
    "hurto_preprocesado.modalidad.value_counts()"
   ]
  },
  {
   "cell_type": "code",
   "execution_count": 4,
   "metadata": {},
   "outputs": [
    {
     "data": {
      "text/html": [
       "<div>\n",
       "<style scoped>\n",
       "    .dataframe tbody tr th:only-of-type {\n",
       "        vertical-align: middle;\n",
       "    }\n",
       "\n",
       "    .dataframe tbody tr th {\n",
       "        vertical-align: top;\n",
       "    }\n",
       "\n",
       "    .dataframe thead th {\n",
       "        text-align: right;\n",
       "    }\n",
       "</style>\n",
       "<table border=\"1\" class=\"dataframe\">\n",
       "  <thead>\n",
       "    <tr style=\"text-align: right;\">\n",
       "      <th></th>\n",
       "      <th>latitud</th>\n",
       "      <th>longitud</th>\n",
       "      <th>estado_civil</th>\n",
       "      <th>medio_transporte</th>\n",
       "      <th>modalidad</th>\n",
       "      <th>nombre_barrio</th>\n",
       "      <th>codigo_comuna</th>\n",
       "      <th>lugar</th>\n",
       "      <th>sede_receptora</th>\n",
       "      <th>modelo</th>\n",
       "      <th>...</th>\n",
       "      <th>anho</th>\n",
       "      <th>mes</th>\n",
       "      <th>dia</th>\n",
       "      <th>dia_semana</th>\n",
       "      <th>hora</th>\n",
       "      <th>festivos</th>\n",
       "      <th>quincena</th>\n",
       "      <th>week_number</th>\n",
       "      <th>ferias_fiestas</th>\n",
       "      <th>franja_horaria</th>\n",
       "    </tr>\n",
       "  </thead>\n",
       "  <tbody>\n",
       "    <tr>\n",
       "      <th>0</th>\n",
       "      <td>6.268040</td>\n",
       "      <td>-75.549892</td>\n",
       "      <td>0</td>\n",
       "      <td>0</td>\n",
       "      <td>0</td>\n",
       "      <td>0</td>\n",
       "      <td>0</td>\n",
       "      <td>0</td>\n",
       "      <td>0</td>\n",
       "      <td>0</td>\n",
       "      <td>...</td>\n",
       "      <td>2017</td>\n",
       "      <td>1</td>\n",
       "      <td>1</td>\n",
       "      <td>6</td>\n",
       "      <td>23</td>\n",
       "      <td>1</td>\n",
       "      <td>1</td>\n",
       "      <td>52</td>\n",
       "      <td>0</td>\n",
       "      <td>2</td>\n",
       "    </tr>\n",
       "    <tr>\n",
       "      <th>1</th>\n",
       "      <td>6.268129</td>\n",
       "      <td>-75.557882</td>\n",
       "      <td>0</td>\n",
       "      <td>0</td>\n",
       "      <td>0</td>\n",
       "      <td>4</td>\n",
       "      <td>3</td>\n",
       "      <td>2</td>\n",
       "      <td>3</td>\n",
       "      <td>4</td>\n",
       "      <td>...</td>\n",
       "      <td>2017</td>\n",
       "      <td>1</td>\n",
       "      <td>1</td>\n",
       "      <td>6</td>\n",
       "      <td>16</td>\n",
       "      <td>1</td>\n",
       "      <td>1</td>\n",
       "      <td>52</td>\n",
       "      <td>0</td>\n",
       "      <td>1</td>\n",
       "    </tr>\n",
       "    <tr>\n",
       "      <th>2</th>\n",
       "      <td>6.268399</td>\n",
       "      <td>-75.549576</td>\n",
       "      <td>0</td>\n",
       "      <td>0</td>\n",
       "      <td>0</td>\n",
       "      <td>0</td>\n",
       "      <td>0</td>\n",
       "      <td>0</td>\n",
       "      <td>0</td>\n",
       "      <td>4</td>\n",
       "      <td>...</td>\n",
       "      <td>2017</td>\n",
       "      <td>1</td>\n",
       "      <td>1</td>\n",
       "      <td>6</td>\n",
       "      <td>10</td>\n",
       "      <td>1</td>\n",
       "      <td>1</td>\n",
       "      <td>52</td>\n",
       "      <td>0</td>\n",
       "      <td>0</td>\n",
       "    </tr>\n",
       "    <tr>\n",
       "      <th>3</th>\n",
       "      <td>6.263576</td>\n",
       "      <td>-75.558601</td>\n",
       "      <td>3</td>\n",
       "      <td>0</td>\n",
       "      <td>0</td>\n",
       "      <td>4</td>\n",
       "      <td>3</td>\n",
       "      <td>0</td>\n",
       "      <td>3</td>\n",
       "      <td>4</td>\n",
       "      <td>...</td>\n",
       "      <td>2017</td>\n",
       "      <td>1</td>\n",
       "      <td>3</td>\n",
       "      <td>1</td>\n",
       "      <td>8</td>\n",
       "      <td>0</td>\n",
       "      <td>0</td>\n",
       "      <td>1</td>\n",
       "      <td>0</td>\n",
       "      <td>0</td>\n",
       "    </tr>\n",
       "    <tr>\n",
       "      <th>4</th>\n",
       "      <td>6.263299</td>\n",
       "      <td>-75.556534</td>\n",
       "      <td>0</td>\n",
       "      <td>1</td>\n",
       "      <td>1</td>\n",
       "      <td>4</td>\n",
       "      <td>3</td>\n",
       "      <td>0</td>\n",
       "      <td>3</td>\n",
       "      <td>0</td>\n",
       "      <td>...</td>\n",
       "      <td>2017</td>\n",
       "      <td>1</td>\n",
       "      <td>7</td>\n",
       "      <td>5</td>\n",
       "      <td>3</td>\n",
       "      <td>0</td>\n",
       "      <td>0</td>\n",
       "      <td>1</td>\n",
       "      <td>0</td>\n",
       "      <td>2</td>\n",
       "    </tr>\n",
       "  </tbody>\n",
       "</table>\n",
       "<p>5 rows × 21 columns</p>\n",
       "</div>"
      ],
      "text/plain": [
       "    latitud   longitud  estado_civil  medio_transporte  modalidad  \\\n",
       "0  6.268040 -75.549892             0                 0          0   \n",
       "1  6.268129 -75.557882             0                 0          0   \n",
       "2  6.268399 -75.549576             0                 0          0   \n",
       "3  6.263576 -75.558601             3                 0          0   \n",
       "4  6.263299 -75.556534             0                 1          1   \n",
       "\n",
       "   nombre_barrio  codigo_comuna  lugar  sede_receptora  modelo  ...  anho  \\\n",
       "0              0              0      0               0       0  ...  2017   \n",
       "1              4              3      2               3       4  ...  2017   \n",
       "2              0              0      0               0       4  ...  2017   \n",
       "3              4              3      0               3       4  ...  2017   \n",
       "4              4              3      0               3       0  ...  2017   \n",
       "\n",
       "   mes  dia  dia_semana  hora  festivos  quincena  week_number  \\\n",
       "0    1    1           6    23         1         1           52   \n",
       "1    1    1           6    16         1         1           52   \n",
       "2    1    1           6    10         1         1           52   \n",
       "3    1    3           1     8         0         0            1   \n",
       "4    1    7           5     3         0         0            1   \n",
       "\n",
       "   ferias_fiestas  franja_horaria  \n",
       "0               0               2  \n",
       "1               0               1  \n",
       "2               0               0  \n",
       "3               0               0  \n",
       "4               0               2  \n",
       "\n",
       "[5 rows x 21 columns]"
      ]
     },
     "execution_count": 4,
     "metadata": {},
     "output_type": "execute_result"
    }
   ],
   "source": [
    "hurto_preprocesado.head()"
   ]
  },
  {
   "cell_type": "code",
   "execution_count": 5,
   "metadata": {},
   "outputs": [
    {
     "data": {
      "text/plain": [
       "Index(['latitud', 'longitud', 'estado_civil', 'medio_transporte', 'modalidad',\n",
       "       'nombre_barrio', 'codigo_comuna', 'lugar', 'sede_receptora', 'modelo',\n",
       "       'fecha', 'anho', 'mes', 'dia', 'dia_semana', 'hora', 'festivos',\n",
       "       'quincena', 'week_number', 'ferias_fiestas', 'franja_horaria'],\n",
       "      dtype='object')"
      ]
     },
     "execution_count": 5,
     "metadata": {},
     "output_type": "execute_result"
    }
   ],
   "source": [
    "hurto_preprocesado.columns"
   ]
  },
  {
   "cell_type": "code",
   "execution_count": null,
   "metadata": {},
   "outputs": [],
   "source": []
  },
  {
   "cell_type": "code",
   "execution_count": null,
   "metadata": {},
   "outputs": [],
   "source": []
  },
  {
   "cell_type": "code",
   "execution_count": null,
   "metadata": {},
   "outputs": [],
   "source": []
  },
  {
   "cell_type": "markdown",
   "metadata": {},
   "source": [
    "# Proceso de cross-validation."
   ]
  },
  {
   "cell_type": "code",
   "execution_count": 6,
   "metadata": {},
   "outputs": [],
   "source": [
    "y = hurto_preprocesado.modalidad\n",
    "x = hurto_preprocesado.drop(['modalidad'], axis=1)\n",
    "\n",
    "X_train, X_test, y_train, y_test = train_test_split(x, \n",
    "                                                    y, \n",
    "                                                    test_size=0.2, \n",
    "                                                    random_state=8)"
   ]
  },
  {
   "cell_type": "markdown",
   "metadata": {},
   "source": [
    "# 1. Regresión logistica binaria."
   ]
  },
  {
   "cell_type": "code",
   "execution_count": 9,
   "metadata": {},
   "outputs": [
    {
     "name": "stdout",
     "output_type": "stream",
     "text": [
      "              precision    recall  f1-score   support\n",
      "\n",
      "           0       0.57      1.00      0.72      6657\n",
      "           1       0.00      0.00      0.00      5054\n",
      "\n",
      "    accuracy                           0.57     11711\n",
      "   macro avg       0.28      0.50      0.36     11711\n",
      "weighted avg       0.32      0.57      0.41     11711\n",
      "\n"
     ]
    },
    {
     "name": "stderr",
     "output_type": "stream",
     "text": [
      "/home/jaarciah/.local/lib/python3.7/site-packages/sklearn/metrics/_classification.py:1272: UndefinedMetricWarning: Precision and F-score are ill-defined and being set to 0.0 in labels with no predicted samples. Use `zero_division` parameter to control this behavior.\n",
      "  _warn_prf(average, modifier, msg_start, len(result))\n"
     ]
    }
   ],
   "source": [
    "modelRLB = make_pipeline(LogisticRegression())\n",
    "modelRLB.fit(X_train,\n",
    "          y_train)\n",
    "ypred = modelRLB.predict(X_test)\n",
    "print(classification_report(y_test, ypred))"
   ]
  },
  {
   "cell_type": "code",
   "execution_count": 10,
   "metadata": {},
   "outputs": [],
   "source": [
    "# Save to file in the current working directory\n",
    "pkl_filename = \"/home/jaarciah/PI/Clasificación /modelos/iteración_1/modelRLB.pkl\"\n",
    "with open(pkl_filename, 'wb') as file:\n",
    "    pickle.dump(modelRLB, file)"
   ]
  },
  {
   "cell_type": "code",
   "execution_count": null,
   "metadata": {},
   "outputs": [],
   "source": []
  },
  {
   "cell_type": "markdown",
   "metadata": {},
   "source": [
    "# 2. SVM.\n",
    "\n",
    "https://scikit-learn.org/stable/modules/generated/sklearn.svm.SVC.html#sklearn.svm.SVC"
   ]
  },
  {
   "cell_type": "code",
   "execution_count": 10,
   "metadata": {},
   "outputs": [
    {
     "name": "stdout",
     "output_type": "stream",
     "text": [
      "              precision    recall  f1-score   support\n",
      "\n",
      "           0       0.57      1.00      0.72      6657\n",
      "           1       0.00      0.00      0.00      5054\n",
      "\n",
      "    accuracy                           0.57     11711\n",
      "   macro avg       0.28      0.50      0.36     11711\n",
      "weighted avg       0.32      0.57      0.41     11711\n",
      "\n"
     ]
    },
    {
     "name": "stderr",
     "output_type": "stream",
     "text": [
      "/home/jaarciah/.local/lib/python3.7/site-packages/sklearn/metrics/_classification.py:1272: UndefinedMetricWarning: Precision and F-score are ill-defined and being set to 0.0 in labels with no predicted samples. Use `zero_division` parameter to control this behavior.\n",
      "  _warn_prf(average, modifier, msg_start, len(result))\n"
     ]
    }
   ],
   "source": [
    "modelSvm = make_pipeline(svm.SVC())\n",
    "modelSvm.fit(X_train,\n",
    "          y_train)\n",
    "ypred = modelSvm.predict(X_test)\n",
    "print(classification_report(y_test, ypred))"
   ]
  },
  {
   "cell_type": "code",
   "execution_count": 11,
   "metadata": {},
   "outputs": [],
   "source": [
    "# Save to file in the current working directory\n",
    "pkl_filename = \"/home/jaarciah/PI/Clasificación /modelos/iteración_1/modelSvm.pkl\"\n",
    "with open(pkl_filename, 'wb') as file:\n",
    "    pickle.dump(modelSvm, file)"
   ]
  },
  {
   "cell_type": "markdown",
   "metadata": {},
   "source": [
    "# 3. Stochastic Gradient Descent.\n",
    "https://scikit-learn.org/stable/modules/sgd.html#classification"
   ]
  },
  {
   "cell_type": "code",
   "execution_count": 13,
   "metadata": {},
   "outputs": [
    {
     "name": "stdout",
     "output_type": "stream",
     "text": [
      "              precision    recall  f1-score   support\n",
      "\n",
      "           0       0.57      1.00      0.72      6657\n",
      "           1       0.00      0.00      0.00      5054\n",
      "\n",
      "    accuracy                           0.57     11711\n",
      "   macro avg       0.28      0.50      0.36     11711\n",
      "weighted avg       0.32      0.57      0.41     11711\n",
      "\n"
     ]
    },
    {
     "name": "stderr",
     "output_type": "stream",
     "text": [
      "/home/jaarciah/.local/lib/python3.7/site-packages/sklearn/metrics/_classification.py:1272: UndefinedMetricWarning: Precision and F-score are ill-defined and being set to 0.0 in labels with no predicted samples. Use `zero_division` parameter to control this behavior.\n",
      "  _warn_prf(average, modifier, msg_start, len(result))\n"
     ]
    }
   ],
   "source": [
    "modelSGD = make_pipeline(SGDClassifier())\n",
    "modelSGD.fit(X_train,\n",
    "          y_train)\n",
    "ypred = modelSGD.predict(X_test)\n",
    "print(classification_report(y_test, ypred))"
   ]
  },
  {
   "cell_type": "code",
   "execution_count": 14,
   "metadata": {},
   "outputs": [],
   "source": [
    "# Save to file in the current working directory\n",
    "pkl_filename = \"/home/jaarciah/PI/Clasificación /modelos/iteración_1/modelSGD.pkl\"\n",
    "with open(pkl_filename, 'wb') as file:\n",
    "    pickle.dump(modelSGD, file)"
   ]
  },
  {
   "cell_type": "markdown",
   "metadata": {},
   "source": [
    "# 4. Nearest Neighbors Classification.\n",
    "\n",
    "https://scikit-learn.org/stable/modules/neighbors.html#nearest-neighbors-classification"
   ]
  },
  {
   "cell_type": "code",
   "execution_count": 15,
   "metadata": {},
   "outputs": [
    {
     "name": "stdout",
     "output_type": "stream",
     "text": [
      "              precision    recall  f1-score   support\n",
      "\n",
      "           0       0.67      0.67      0.67      6657\n",
      "           1       0.57      0.57      0.57      5054\n",
      "\n",
      "    accuracy                           0.63     11711\n",
      "   macro avg       0.62      0.62      0.62     11711\n",
      "weighted avg       0.63      0.63      0.63     11711\n",
      "\n"
     ]
    }
   ],
   "source": [
    "modelNN = make_pipeline(KNeighborsClassifier())\n",
    "modelNN.fit(X_train,\n",
    "          y_train)\n",
    "ypred = modelNN.predict(X_test)\n",
    "print(classification_report(y_test, ypred))"
   ]
  },
  {
   "cell_type": "code",
   "execution_count": 16,
   "metadata": {},
   "outputs": [],
   "source": [
    "# Save to file in the current working directory\n",
    "pkl_filename = \"/home/jaarciah/PI/Clasificación /modelos/iteración_1/modelNN.pkl\"\n",
    "with open(pkl_filename, 'wb') as file:\n",
    "    pickle.dump(modelNN, file)"
   ]
  },
  {
   "cell_type": "markdown",
   "metadata": {},
   "source": [
    "# 5. Gaussian Naive Bayes\n",
    "https://scikit-learn.org/stable/modules/naive_bayes.html#gaussian-naive-bayes"
   ]
  },
  {
   "cell_type": "code",
   "execution_count": 17,
   "metadata": {},
   "outputs": [
    {
     "name": "stdout",
     "output_type": "stream",
     "text": [
      "              precision    recall  f1-score   support\n",
      "\n",
      "           0       0.71      0.59      0.64      6657\n",
      "           1       0.56      0.68      0.61      5054\n",
      "\n",
      "    accuracy                           0.63     11711\n",
      "   macro avg       0.63      0.63      0.63     11711\n",
      "weighted avg       0.64      0.63      0.63     11711\n",
      "\n"
     ]
    }
   ],
   "source": [
    "modelGNB = make_pipeline(GaussianNB())\n",
    "modelGNB.fit(X_train,\n",
    "          y_train)\n",
    "ypred = modelGNB.predict(X_test)\n",
    "print(classification_report(y_test, ypred))"
   ]
  },
  {
   "cell_type": "code",
   "execution_count": 18,
   "metadata": {},
   "outputs": [],
   "source": [
    "# Save to file in the current working directory\n",
    "pkl_filename = \"/home/jaarciah/PI/Clasificación /modelos/iteración_1/modelGNB.pkl\"\n",
    "with open(pkl_filename, 'wb') as file:\n",
    "    pickle.dump(modelGNB, file)"
   ]
  },
  {
   "cell_type": "markdown",
   "metadata": {},
   "source": [
    "# 6. Basados en arboles."
   ]
  },
  {
   "cell_type": "markdown",
   "metadata": {},
   "source": [
    "\n",
    "## 1. Decision Tree.\n",
    "https://scikit-learn.org/stable/modules/generated/sklearn.tree.DecisionTreeClassifier.html#sklearn.tree.DecisionTreeClassifier"
   ]
  },
  {
   "cell_type": "code",
   "execution_count": 19,
   "metadata": {},
   "outputs": [
    {
     "name": "stdout",
     "output_type": "stream",
     "text": [
      "              precision    recall  f1-score   support\n",
      "\n",
      "           0       0.88      0.88      0.88      6657\n",
      "           1       0.84      0.84      0.84      5054\n",
      "\n",
      "    accuracy                           0.86     11711\n",
      "   macro avg       0.86      0.86      0.86     11711\n",
      "weighted avg       0.86      0.86      0.86     11711\n",
      "\n"
     ]
    }
   ],
   "source": [
    "modelDTre = make_pipeline(DecisionTreeClassifier())\n",
    "modelDTre.fit(X_train,\n",
    "          y_train)\n",
    "ypred = modelDTre.predict(X_test)\n",
    "print(classification_report(y_test, ypred))"
   ]
  },
  {
   "cell_type": "code",
   "execution_count": 20,
   "metadata": {},
   "outputs": [],
   "source": [
    "# Save to file in the current working directory\n",
    "pkl_filename = \"/home/jaarciah/PI/Clasificación /modelos/iteración_1/modelDTre.pkl\"\n",
    "with open(pkl_filename, 'wb') as file:\n",
    "    pickle.dump(modelDTre, file)"
   ]
  },
  {
   "cell_type": "markdown",
   "metadata": {},
   "source": [
    "## 2. ExtraTreeClassifier."
   ]
  },
  {
   "cell_type": "code",
   "execution_count": 21,
   "metadata": {},
   "outputs": [
    {
     "name": "stdout",
     "output_type": "stream",
     "text": [
      "              precision    recall  f1-score   support\n",
      "\n",
      "           0       0.85      0.84      0.84      6657\n",
      "           1       0.79      0.81      0.80      5054\n",
      "\n",
      "    accuracy                           0.82     11711\n",
      "   macro avg       0.82      0.82      0.82     11711\n",
      "weighted avg       0.82      0.82      0.82     11711\n",
      "\n"
     ]
    }
   ],
   "source": [
    "modelETre = make_pipeline(ExtraTreeClassifier())\n",
    "modelETre.fit(X_train,\n",
    "          y_train)\n",
    "ypred = modelETre.predict(X_test)\n",
    "print(classification_report(y_test, ypred))"
   ]
  },
  {
   "cell_type": "code",
   "execution_count": 22,
   "metadata": {},
   "outputs": [],
   "source": [
    "# Save to file in the current working directory\n",
    "pkl_filename = \"/home/jaarciah/PI/Clasificación /modelos/iteración_1/modelETre.pkl\"\n",
    "with open(pkl_filename, 'wb') as file:\n",
    "    pickle.dump(modelETre, file)"
   ]
  },
  {
   "cell_type": "markdown",
   "metadata": {},
   "source": [
    "# 7. Ensemble methods"
   ]
  },
  {
   "cell_type": "markdown",
   "metadata": {},
   "source": [
    "## 1. Bagging Classifier.\n",
    "https://scikit-learn.org/stable/modules/ensemble.html#bagging-meta-estimator"
   ]
  },
  {
   "cell_type": "markdown",
   "metadata": {},
   "source": [
    "### a. Decision Tree."
   ]
  },
  {
   "cell_type": "code",
   "execution_count": 23,
   "metadata": {},
   "outputs": [
    {
     "name": "stdout",
     "output_type": "stream",
     "text": [
      "              precision    recall  f1-score   support\n",
      "\n",
      "           0       0.91      0.92      0.92      6657\n",
      "           1       0.90      0.88      0.89      5054\n",
      "\n",
      "    accuracy                           0.91     11711\n",
      "   macro avg       0.90      0.90      0.90     11711\n",
      "weighted avg       0.91      0.91      0.91     11711\n",
      "\n"
     ]
    }
   ],
   "source": [
    "modelbaggingDTre = make_pipeline(BaggingClassifier(DecisionTreeClassifier()))\n",
    "modelbaggingDTre.fit(X_train,\n",
    "          y_train)\n",
    "ypred = modelbaggingDTre.predict(X_test)\n",
    "print(classification_report(y_test, ypred))"
   ]
  },
  {
   "cell_type": "code",
   "execution_count": 24,
   "metadata": {},
   "outputs": [],
   "source": [
    "# Save to file in the current working directory\n",
    "pkl_filename = \"/home/jaarciah/PI/Clasificación /modelos/iteración_1/modelbaggingDTre.pkl\"\n",
    "with open(pkl_filename, 'wb') as file:\n",
    "    pickle.dump(modelbaggingDTre, file)"
   ]
  },
  {
   "cell_type": "markdown",
   "metadata": {},
   "source": [
    "### b. Nearest Neighbors."
   ]
  },
  {
   "cell_type": "code",
   "execution_count": 25,
   "metadata": {},
   "outputs": [
    {
     "name": "stdout",
     "output_type": "stream",
     "text": [
      "              precision    recall  f1-score   support\n",
      "\n",
      "           0       0.67      0.68      0.67      6657\n",
      "           1       0.57      0.56      0.56      5054\n",
      "\n",
      "    accuracy                           0.63     11711\n",
      "   macro avg       0.62      0.62      0.62     11711\n",
      "weighted avg       0.62      0.63      0.62     11711\n",
      "\n"
     ]
    }
   ],
   "source": [
    "modelbaggingNN = make_pipeline(BaggingClassifier(KNeighborsClassifier()))\n",
    "modelbaggingNN.fit(X_train,\n",
    "          y_train)\n",
    "ypred = modelbaggingNN.predict(X_test)\n",
    "print(classification_report(y_test, ypred))"
   ]
  },
  {
   "cell_type": "code",
   "execution_count": 26,
   "metadata": {},
   "outputs": [],
   "source": [
    "# Save to file in the current working directory\n",
    "pkl_filename = \"/home/jaarciah/PI/Clasificación /modelos/iteración_1/modelbaggingNN.pkl\"\n",
    "with open(pkl_filename, 'wb') as file:\n",
    "    pickle.dump(modelbaggingNN, file)"
   ]
  },
  {
   "cell_type": "markdown",
   "metadata": {},
   "source": [
    "### c. ExtraTree."
   ]
  },
  {
   "cell_type": "code",
   "execution_count": 27,
   "metadata": {},
   "outputs": [
    {
     "name": "stdout",
     "output_type": "stream",
     "text": [
      "              precision    recall  f1-score   support\n",
      "\n",
      "           0       0.89      0.92      0.91      6657\n",
      "           1       0.89      0.85      0.87      5054\n",
      "\n",
      "    accuracy                           0.89     11711\n",
      "   macro avg       0.89      0.89      0.89     11711\n",
      "weighted avg       0.89      0.89      0.89     11711\n",
      "\n"
     ]
    }
   ],
   "source": [
    "modelbaggingETre = make_pipeline(BaggingClassifier(ExtraTreeClassifier()))\n",
    "modelbaggingETre.fit(X_train,\n",
    "          y_train)\n",
    "ypred = modelbaggingETre.predict(X_test)\n",
    "print(classification_report(y_test, ypred))"
   ]
  },
  {
   "cell_type": "code",
   "execution_count": 28,
   "metadata": {},
   "outputs": [],
   "source": [
    "# Save to file in the current working directory\n",
    "pkl_filename = \"/home/jaarciah/PI/Clasificación /modelos/iteración_1/modelbaggingETre.pkl\"\n",
    "with open(pkl_filename, 'wb') as file:\n",
    "    pickle.dump(modelbaggingETre, file)"
   ]
  },
  {
   "cell_type": "markdown",
   "metadata": {},
   "source": [
    "## 2. RandomForestClassifier."
   ]
  },
  {
   "cell_type": "code",
   "execution_count": 29,
   "metadata": {},
   "outputs": [
    {
     "name": "stdout",
     "output_type": "stream",
     "text": [
      "              precision    recall  f1-score   support\n",
      "\n",
      "           0       0.93      0.92      0.92      6657\n",
      "           1       0.90      0.91      0.90      5054\n",
      "\n",
      "    accuracy                           0.91     11711\n",
      "   macro avg       0.91      0.91      0.91     11711\n",
      "weighted avg       0.91      0.91      0.91     11711\n",
      "\n"
     ]
    }
   ],
   "source": [
    "modelRF = make_pipeline(RandomForestClassifier())\n",
    "modelRF.fit(X_train,\n",
    "          y_train)\n",
    "ypred = modelRF.predict(X_test)\n",
    "print(classification_report(y_test, ypred))"
   ]
  },
  {
   "cell_type": "code",
   "execution_count": 30,
   "metadata": {},
   "outputs": [],
   "source": [
    "# Save to file in the current working directory\n",
    "pkl_filename = \"/home/jaarciah/PI/Clasificación /modelos/iteración_1/modelRF.pkl\"\n",
    "with open(pkl_filename, 'wb') as file:\n",
    "    pickle.dump(modelRF, file)"
   ]
  },
  {
   "cell_type": "markdown",
   "metadata": {},
   "source": [
    "## 3. AdaBoost."
   ]
  },
  {
   "cell_type": "code",
   "execution_count": 31,
   "metadata": {},
   "outputs": [
    {
     "name": "stdout",
     "output_type": "stream",
     "text": [
      "              precision    recall  f1-score   support\n",
      "\n",
      "           0       0.91      0.88      0.89      6657\n",
      "           1       0.84      0.89      0.87      5054\n",
      "\n",
      "    accuracy                           0.88     11711\n",
      "   macro avg       0.88      0.88      0.88     11711\n",
      "weighted avg       0.88      0.88      0.88     11711\n",
      "\n"
     ]
    }
   ],
   "source": [
    "modelAdaB = make_pipeline(AdaBoostClassifier())\n",
    "modelAdaB.fit(X_train,\n",
    "          y_train)\n",
    "ypred = modelAdaB.predict(X_test)\n",
    "print(classification_report(y_test, ypred))"
   ]
  },
  {
   "cell_type": "code",
   "execution_count": 32,
   "metadata": {},
   "outputs": [],
   "source": [
    "# Save to file in the current working directory\n",
    "pkl_filename = \"/home/jaarciah/PI/Clasificación /modelos/iteración_1/modelAdaB.pkl\"\n",
    "with open(pkl_filename, 'wb') as file:\n",
    "    pickle.dump(modelAdaB, file)"
   ]
  },
  {
   "cell_type": "markdown",
   "metadata": {},
   "source": [
    "## 4. Gradient Tree Boosting."
   ]
  },
  {
   "cell_type": "code",
   "execution_count": 33,
   "metadata": {},
   "outputs": [
    {
     "name": "stdout",
     "output_type": "stream",
     "text": [
      "              precision    recall  f1-score   support\n",
      "\n",
      "           0       0.91      0.89      0.90      6657\n",
      "           1       0.86      0.89      0.87      5054\n",
      "\n",
      "    accuracy                           0.89     11711\n",
      "   macro avg       0.89      0.89      0.89     11711\n",
      "weighted avg       0.89      0.89      0.89     11711\n",
      "\n"
     ]
    }
   ],
   "source": [
    "modelGTreB = make_pipeline(GradientBoostingClassifier())\n",
    "modelGTreB.fit(X_train,\n",
    "          y_train)\n",
    "ypred = modelGTreB.predict(X_test)\n",
    "print(classification_report(y_test, ypred))"
   ]
  },
  {
   "cell_type": "code",
   "execution_count": 34,
   "metadata": {},
   "outputs": [],
   "source": [
    "# Save to file in the current working directory\n",
    "pkl_filename = \"/home/jaarciah/PI/Clasificación /modelos/iteración_1/modelGTreB.pkl\"\n",
    "with open(pkl_filename, 'wb') as file:\n",
    "    pickle.dump(modelGTreB, file)"
   ]
  },
  {
   "cell_type": "markdown",
   "metadata": {},
   "source": [
    "## 5. Voting Classifier.\n",
    "\n",
    "https://scikit-learn.org/stable/modules/generated/sklearn.ensemble.VotingClassifier.html#sklearn.ensemble.VotingClassifier"
   ]
  },
  {
   "cell_type": "code",
   "execution_count": null,
   "metadata": {},
   "outputs": [],
   "source": []
  },
  {
   "cell_type": "code",
   "execution_count": null,
   "metadata": {},
   "outputs": [],
   "source": []
  },
  {
   "cell_type": "code",
   "execution_count": null,
   "metadata": {},
   "outputs": [],
   "source": []
  }
 ],
 "metadata": {
  "kernelspec": {
   "display_name": "Python 3",
   "language": "python",
   "name": "python3"
  },
  "language_info": {
   "codemirror_mode": {
    "name": "ipython",
    "version": 3
   },
   "file_extension": ".py",
   "mimetype": "text/x-python",
   "name": "python",
   "nbconvert_exporter": "python",
   "pygments_lexer": "ipython3",
   "version": "3.7.3"
  }
 },
 "nbformat": 4,
 "nbformat_minor": 2
}
